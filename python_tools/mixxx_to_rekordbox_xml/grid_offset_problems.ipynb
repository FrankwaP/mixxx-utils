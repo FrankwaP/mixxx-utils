{
 "cells": [
  {
   "cell_type": "markdown",
   "metadata": {},
   "source": [
    "# Time offset when exporting naively from Mixxx to Rekordbox\n",
    "\n",
    "## Be Careful\n",
    "\n",
    "Do not run this notebook as I did not push the test audio files in the repo.\n",
    "\n",
    "## Context\n",
    "\n",
    "The grids of some tracks display an offset once imported into Rekordbox.\n",
    "\n",
    "This problem is known. In [this comment](https://github.com/mixxxdj/mixxx/pull/2119#issuecomment-531575124) we can understand the solution:\n",
    "\n",
    "```\n",
    "if mp3 does NOT have a Xing/INFO tag:\n",
    "     case = 'A'\n",
    "     correction = 0ms\n",
    " \n",
    " elif mp3 has Xing/INFO, but does NOT have a LAME tag:\n",
    "     # typical case: has LAVC header instead\n",
    "     case = 'B'\n",
    "     correction = 26ms\n",
    " \n",
    " elif LAME tag has invalid CRC:\n",
    "     # typical case: CRC= zero\n",
    "     case = 'C'\n",
    "     correction = 26ms\n",
    "     \n",
    " elif LAME tag has valid CRC:\n",
    "     case = 'D'\n",
    "     correction = 0ms\n",
    "```\n",
    "\n",
    "In [this comment](https://github.com/mixxxdj/mixxx/pull/2119#issuecomment-533952875) we can understand how it works when taking into consideration the decoder used by Mixxx:\n",
    "\n",
    "```\n",
    "if MAD decoder\n",
    "\tif case A or D\n",
    "\t\toffset = -26\n",
    "if CoreAudio decoder\n",
    "\tif case A\n",
    "\t\toffset = -13\n",
    "\tif case B\n",
    "\t\toffset = -11\n",
    "\tif case C\n",
    "\t\toffset = -26\n",
    "\tif case D\n",
    "\t\toffset = -50\n",
    "if FFmpeg4.1 decoder\n",
    "\tif case D\n",
    "\t\toffset = -26\n",
    "```\n",
    "\n",
    "\n",
    "And here's [how it's implement in the code](https://github.com/mixxxdj/mixxx/blob/8f647908af460e53fe8a860b6ce0964a93a55112/src/library/rekordbox/rekordboxfeature.cpp#L1261).\n",
    "\n",
    "In the discussion @pestrela talked about using EyeD3 only (instead of also relaying on mp3guessenc). We can have a glimpse on how he does it [in this code](https://github.com/pestrela/music/blob/master/traktor/26ms_offsets/bin/mp3_check_encoder.sh) (there's some inadvertently pasted code at the end…).\n",
    "\n",
    "Usng EyeD3 alone would be very convenient for this project as EyeD3 installation is simple (uses pip). This NoteBook is here te check taht it's indeed possible."
   ]
  },
  {
   "cell_type": "markdown",
   "metadata": {},
   "source": [
    "## MP3 files\n",
    "\n",
    "I will use the test files from @pestrela repository: https://github.com/pestrela/music/tree/master/traktor/26ms_offsets/examples_tagged"
   ]
  },
  {
   "cell_type": "code",
   "execution_count": 1,
   "metadata": {},
   "outputs": [
    {
     "data": {
      "text/plain": [
       "[PosixPath('grid_offset_problems--mp3/case_a__airbase_fall__no_xing_only_lame.mp3'),\n",
       " PosixPath('grid_offset_problems--mp3/case_a__armin_Nehalennia__nothing.mp3'),\n",
       " PosixPath('grid_offset_problems--mp3/case_b__adele_paul_damixie__xing_lavc.mp3'),\n",
       " PosixPath('grid_offset_problems--mp3/case_b__avicci_tim_berg__info_lavc.mp3'),\n",
       " PosixPath('grid_offset_problems--mp3/case_b__david_guetta_memories__xing_lame_on_second_frame.mp3'),\n",
       " PosixPath('grid_offset_problems--mp3/case_b__diogo_dialeto__xng_lavc.mp3'),\n",
       " PosixPath('grid_offset_problems--mp3/case_b__estiva__info_lavf.mp3'),\n",
       " PosixPath('grid_offset_problems--mp3/case_c__factorb_luna__crc_zero.mp3'),\n",
       " PosixPath('grid_offset_problems--mp3/case_d__pobsky__crc_ok.mp3')]"
      ]
     },
     "execution_count": 1,
     "metadata": {},
     "output_type": "execute_result"
    }
   ],
   "source": [
    "from pathlib import Path\n",
    "\n",
    "mp3_files = [\n",
    "    Path(\"grid_offset_problems--mp3/case_a__airbase_fall__no_xing_only_lame.mp3\"),\n",
    "    Path(\"grid_offset_problems--mp3/case_a__armin_Nehalennia__nothing.mp3\"),\n",
    "    Path(\"grid_offset_problems--mp3/case_b__adele_paul_damixie__xing_lavc.mp3\"),\n",
    "    Path(\"grid_offset_problems--mp3/case_b__avicci_tim_berg__info_lavc.mp3\"),\n",
    "    Path(\n",
    "        \"grid_offset_problems--mp3/case_b__david_guetta_memories__xing_lame_on_second_frame.mp3\"\n",
    "    ),\n",
    "    Path(\"grid_offset_problems--mp3/case_b__diogo_dialeto__xng_lavc.mp3\"),\n",
    "    Path(\"grid_offset_problems--mp3/case_b__estiva__info_lavf.mp3\"),\n",
    "    Path(\"grid_offset_problems--mp3/case_c__factorb_luna__crc_zero.mp3\"),\n",
    "    Path(\"grid_offset_problems--mp3/case_d__pobsky__crc_ok.mp3\"),\n",
    "]"
   ]
  },
  {
   "cell_type": "markdown",
   "metadata": {},
   "source": [
    "## Using EyeD3"
   ]
  },
  {
   "cell_type": "code",
   "execution_count": 2,
   "metadata": {},
   "outputs": [
    {
     "name": "stdout",
     "output_type": "stream",
     "text": [
      "Requirement already satisfied: eyed3 in /home/francois/miniforge3/envs/musicdb/lib/python3.12/site-packages (0.9.7)\n",
      "Requirement already satisfied: coverage<6.0.0,>=5.3.1 in /home/francois/miniforge3/envs/musicdb/lib/python3.12/site-packages (from coverage[toml]<6.0.0,>=5.3.1->eyed3) (5.5)\n",
      "Requirement already satisfied: deprecation<3.0.0,>=2.1.0 in /home/francois/miniforge3/envs/musicdb/lib/python3.12/site-packages (from eyed3) (2.1.0)\n",
      "Requirement already satisfied: filetype<2.0.0,>=1.0.7 in /home/francois/miniforge3/envs/musicdb/lib/python3.12/site-packages (from eyed3) (1.2.0)\n",
      "Requirement already satisfied: toml in /home/francois/miniforge3/envs/musicdb/lib/python3.12/site-packages (from coverage[toml]<6.0.0,>=5.3.1->eyed3) (0.10.2)\n",
      "Requirement already satisfied: packaging in /home/francois/miniforge3/envs/musicdb/lib/python3.12/site-packages (from deprecation<3.0.0,>=2.1.0->eyed3) (23.2)\n",
      "Note: you may need to restart the kernel to use updated packages.\n"
     ]
    }
   ],
   "source": [
    "%pip install eyed3"
   ]
  },
  {
   "cell_type": "code",
   "execution_count": 4,
   "metadata": {},
   "outputs": [
    {
     "name": "stderr",
     "output_type": "stream",
     "text": [
      "Lame tag CRC check failed\n",
      "Lame tag CRC check failed\n"
     ]
    },
    {
     "name": "stdout",
     "output_type": "stream",
     "text": [
      "case_a__airbase_fall__no_xing_only_lame :\n",
      "\t A False True True\n",
      "case_a__armin_Nehalennia__nothing :\n",
      "\t A False False False\n",
      "case_b__adele_paul_damixie__xing_lavc :\n",
      "\t B True False False\n",
      "case_b__avicci_tim_berg__info_lavc :\n",
      "\t B True False False\n",
      "case_b__david_guetta_memories__xing_lame_on_second_frame :\n",
      "\t B True False False\n",
      "case_b__diogo_dialeto__xng_lavc :\n",
      "\t B True False False\n",
      "case_b__estiva__info_lavf :\n",
      "\t B True False False\n",
      "case_c__factorb_luna__crc_zero :\n",
      "\t C True True False\n",
      "case_d__pobsky__crc_ok :\n",
      "\t D True True True\n"
     ]
    }
   ],
   "source": [
    "import eyed3, eyed3.mp3\n",
    "\n",
    "\n",
    "def has_xing_info(audiofile: eyed3.mp3.Mp3AudioFile) -> bool:\n",
    "    return audiofile.info.xing_header is not None\n",
    "\n",
    "\n",
    "def has_lame_tag(audiofile: eyed3.mp3.Mp3AudioFile) -> bool:\n",
    "    return len(audiofile.info.lame_tag) > 0\n",
    "\n",
    "\n",
    "def has_valid_CRC_tag(audiofile: eyed3.mp3.Mp3AudioFile) -> bool:\n",
    "    try:\n",
    "        return audiofile.info.lame_tag[\"music_crc\"] > 0\n",
    "    except KeyError:\n",
    "        return False\n",
    "\n",
    "\n",
    "def find_case(audiofile: eyed3.mp3.Mp3AudioFile) -> str:\n",
    "    if not has_xing_info(audiofile):\n",
    "        return \"A\"\n",
    "    elif not has_lame_tag(audiofile):\n",
    "        return \"B\"\n",
    "    elif not has_valid_CRC_tag(audiofile):\n",
    "        return \"C\"\n",
    "    else:\n",
    "        return \"D\"\n",
    "\n",
    "\n",
    "for file in mp3_files:\n",
    "    audiofile = eyed3.load(file)\n",
    "    print(\n",
    "        file.stem,\n",
    "        \":\\n\\t\",\n",
    "        find_case(audiofile),\n",
    "        has_xing_info(audiofile),\n",
    "        has_lame_tag(audiofile),\n",
    "        has_valid_CRC_tag(audiofile),\n",
    "    )"
   ]
  },
  {
   "cell_type": "markdown",
   "metadata": {},
   "source": [
    "It looks good!\n",
    "\n",
    "Let's do an extra check with my files that I am not going to share :-p"
   ]
  },
  {
   "cell_type": "code",
   "execution_count": 5,
   "metadata": {},
   "outputs": [],
   "source": [
    "new_mp3_files = [\n",
    "    Path(\"/media/francois/MEGAMIX/DNB/Sleepnet - Lapse/01 - Lapse.mp3\"),\n",
    "    Path(\"/media/francois/MEGAMIX/DNB/Buunshin - All About This/01 - Acolyte.mp3\"),\n",
    "    Path(\n",
    "        \"/media/francois/MEGAMIX/DNB/VRAC/DJ Rush - Motherfucking Bass (Phace Bootleg).mp3\"\n",
    "    ),\n",
    "    Path(\"/media/francois/MEGAMIX/DNB/Noisia - Purpose EP/05 - Asteroids.mp3\"),\n",
    "]"
   ]
  },
  {
   "cell_type": "code",
   "execution_count": 6,
   "metadata": {},
   "outputs": [
    {
     "name": "stdout",
     "output_type": "stream",
     "text": [
      "01 - Lapse :\n",
      "\t D True True True\n",
      "01 - Acolyte :\n",
      "\t D True True True\n",
      "DJ Rush - Motherfucking Bass (Phace Bootleg) :\n",
      "\t B True False False\n",
      "05 - Asteroids :\n",
      "\t B True False False\n"
     ]
    }
   ],
   "source": [
    "for file in new_mp3_files:\n",
    "    audiofile = eyed3.load(file)\n",
    "    print(\n",
    "        file.stem,\n",
    "        \":\\n\\t\",\n",
    "        find_case(audiofile),\n",
    "        has_xing_info(audiofile),\n",
    "        has_lame_tag(audiofile),\n",
    "        has_valid_CRC_tag(audiofile),\n",
    "    )"
   ]
  },
  {
   "cell_type": "markdown",
   "metadata": {},
   "source": [
    "## Checking my module"
   ]
  },
  {
   "cell_type": "code",
   "execution_count": 7,
   "metadata": {},
   "outputs": [],
   "source": [
    "from encoder_tools import get_offset_ms"
   ]
  },
  {
   "cell_type": "code",
   "execution_count": 8,
   "metadata": {},
   "outputs": [
    {
     "name": "stdout",
     "output_type": "stream",
     "text": [
      "01 - Lapse : 26\n",
      "01 - Acolyte : 26\n",
      "DJ Rush - Motherfucking Bass (Phace Bootleg) : 0\n",
      "05 - Asteroids : 0\n"
     ]
    }
   ],
   "source": [
    "for file in new_mp3_files:\n",
    "    audiofile = eyed3.load(file)\n",
    "    print(file.stem, \":\", get_offset_ms(file, mp3_decoder=\"MAD\"))"
   ]
  }
 ],
 "metadata": {
  "kernelspec": {
   "display_name": "musicdb",
   "language": "python",
   "name": "python3"
  },
  "language_info": {
   "codemirror_mode": {
    "name": "ipython",
    "version": 3
   },
   "file_extension": ".py",
   "mimetype": "text/x-python",
   "name": "python",
   "nbconvert_exporter": "python",
   "pygments_lexer": "ipython3",
   "version": "3.12.0"
  }
 },
 "nbformat": 4,
 "nbformat_minor": 2
}
